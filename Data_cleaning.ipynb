{
  "nbformat": 4,
  "nbformat_minor": 0,
  "metadata": {
    "colab": {
      "provenance": []
    },
    "kernelspec": {
      "name": "python3",
      "display_name": "Python 3"
    },
    "language_info": {
      "name": "python"
    }
  },
  "cells": [
    {
      "cell_type": "code",
      "execution_count": null,
      "metadata": {
        "id": "T1NeUx-udx0B",
        "colab": {
          "base_uri": "https://localhost:8080/"
        },
        "outputId": "5bd9ba3e-bbd6-441d-8840-902f814f6296"
      },
      "outputs": [
        {
          "output_type": "stream",
          "name": "stdout",
          "text": [
            "Drive already mounted at /content/drive; to attempt to forcibly remount, call drive.mount(\"/content/drive\", force_remount=True).\n",
            "Folder created at: /content/drive/My Drive/Pet Project/Coffee Consumption/Dataset\n"
          ]
        }
      ],
      "source": [
        "from google.colab import drive\n",
        "import os\n",
        "\n",
        "# Mount Google Drive\n",
        "drive.mount('/content/drive')\n",
        "\n",
        "# Create subfolder inside existing 'dataset' folder\n",
        "folder_path = '/content/drive/My Drive/Pet Project/Coffee Consumption/Dataset'\n",
        "os.makedirs(folder_path, exist_ok=True)\n",
        "\n",
        "print(\"Folder created at:\", folder_path)\n"
      ]
    },
    {
      "cell_type": "code",
      "source": [
        "import pandas as pd\n",
        "import re\n",
        "\n",
        "output_folder = '/content/drive/My Drive/dataset/cleaned/'\n",
        "\n",
        "os.makedirs(output_folder, exist_ok=True)\n",
        "\n",
        "files_and_metrics = {\n",
        "    'Coffee_domestic_consumption.csv': 'DomesticConsumption',\n",
        "    'Coffee_export.csv': 'Export',\n",
        "    'Coffee_green_coffee_inventorie.csv': 'GreenInventory',\n",
        "    'Coffee_import.csv': 'Import',\n",
        "    'Coffee_importers_consumption.csv': 'ImporterConsumption',\n",
        "    'Coffee_production.csv': 'Production',\n",
        "    'Coffee_re_export.csv': 'ReExport'\n",
        "}\n",
        "\n",
        "def clean_year_columns(columns):\n",
        "    return [re.match(r\"^\\d{4}\", col).group(0) if re.match(r\"^\\d{4}\", col) else col for col in columns]\n",
        "\n",
        "for file, metric in files_and_metrics.items():\n",
        "    df = pd.read_csv(os.path.join(folder_path, file))\n",
        "    df.columns = clean_year_columns(df.columns)\n",
        "\n",
        "    id_cols = [col for col in df.columns if not col.isnumeric()]\n",
        "    year_cols = [col for col in df.columns if col.isnumeric()]\n",
        "\n",
        "    for col in id_cols:\n",
        "        if df[col].dtype == \"object\":\n",
        "            df[col] = df[col].str.strip()\n",
        "\n",
        "    df_melted = pd.melt(df, id_vars=id_cols, value_vars=year_cols, var_name='Year', value_name=metric)\n",
        "    df_melted['Year'] = df_melted['Year'].astype(int)\n",
        "\n",
        "    cleaned_file_path = os.path.join(output_folder, f'cleaned_{file}')\n",
        "    df_melted.to_csv(cleaned_file_path, index=False)"
      ],
      "metadata": {
        "id": "u507BNfaknVY"
      },
      "execution_count": null,
      "outputs": []
    },
    {
      "cell_type": "code",
      "source": [
        ""
      ],
      "metadata": {
        "id": "-2KHDN8bnht_"
      },
      "execution_count": null,
      "outputs": []
    }
  ]
}